{
 "cells": [
  {
   "cell_type": "code",
   "execution_count": 81,
   "id": "b626772b-c6d8-4cf8-9a58-023c1eba14b6",
   "metadata": {},
   "outputs": [
    {
     "name": "stdout",
     "output_type": "stream",
     "text": [
      "Requirement already satisfied: requests in c:\\users\\ng0471lb\\appdata\\local\\anaconda3\\envs\\polars\\lib\\site-packages (2.32.3)\n",
      "Requirement already satisfied: charset-normalizer<4,>=2 in c:\\users\\ng0471lb\\appdata\\local\\anaconda3\\envs\\polars\\lib\\site-packages (from requests) (3.3.2)\n",
      "Requirement already satisfied: idna<4,>=2.5 in c:\\users\\ng0471lb\\appdata\\local\\anaconda3\\envs\\polars\\lib\\site-packages (from requests) (3.8)\n",
      "Requirement already satisfied: urllib3<3,>=1.21.1 in c:\\users\\ng0471lb\\appdata\\local\\anaconda3\\envs\\polars\\lib\\site-packages (from requests) (2.2.2)\n",
      "Requirement already satisfied: certifi>=2017.4.17 in c:\\users\\ng0471lb\\appdata\\local\\anaconda3\\envs\\polars\\lib\\site-packages (from requests) (2024.8.30)\n",
      "Note: you may need to restart the kernel to use updated packages.\n"
     ]
    }
   ],
   "source": [
    "%pip install requests"
   ]
  },
  {
   "cell_type": "code",
   "execution_count": 82,
   "id": "be127bc2-deff-4f6e-a964-3e0219b81c9f",
   "metadata": {},
   "outputs": [],
   "source": [
    "import requests, zipfile, io\n",
    "import polars as pl\n",
    "from glob import glob\n",
    "import re"
   ]
  },
  {
   "cell_type": "markdown",
   "id": "b71f4bb5-0aa5-40b0-84a1-6b502a2e98c6",
   "metadata": {},
   "source": [
    "## Create URLS and For Loop"
   ]
  },
  {
   "cell_type": "code",
   "execution_count": 83,
   "id": "cf083b90-7e69-42fa-8482-46872f88c22c",
   "metadata": {},
   "outputs": [],
   "source": [
    "urls = [(year, f\"https://data.cms.gov/provider-data/sites/default/files/archive/Hospitals/{year}/hospitals{'_archive' if year <= 2020 else ''}_{year}.zip\") for year in range (2017, 2025)]"
   ]
  },
  {
   "cell_type": "code",
   "execution_count": 84,
   "id": "5c2f8b2b-7b93-4e5a-a298-d5a9ce33e9ca",
   "metadata": {},
   "outputs": [
    {
     "data": {
      "text/plain": [
       "[(2017,\n",
       "  'https://data.cms.gov/provider-data/sites/default/files/archive/Hospitals/2017/hospitals_archive_2017.zip'),\n",
       " (2018,\n",
       "  'https://data.cms.gov/provider-data/sites/default/files/archive/Hospitals/2018/hospitals_archive_2018.zip'),\n",
       " (2019,\n",
       "  'https://data.cms.gov/provider-data/sites/default/files/archive/Hospitals/2019/hospitals_archive_2019.zip'),\n",
       " (2020,\n",
       "  'https://data.cms.gov/provider-data/sites/default/files/archive/Hospitals/2020/hospitals_archive_2020.zip'),\n",
       " (2021,\n",
       "  'https://data.cms.gov/provider-data/sites/default/files/archive/Hospitals/2021/hospitals_2021.zip'),\n",
       " (2022,\n",
       "  'https://data.cms.gov/provider-data/sites/default/files/archive/Hospitals/2022/hospitals_2022.zip'),\n",
       " (2023,\n",
       "  'https://data.cms.gov/provider-data/sites/default/files/archive/Hospitals/2023/hospitals_2023.zip'),\n",
       " (2024,\n",
       "  'https://data.cms.gov/provider-data/sites/default/files/archive/Hospitals/2024/hospitals_2024.zip')]"
      ]
     },
     "execution_count": 84,
     "metadata": {},
     "output_type": "execute_result"
    }
   ],
   "source": [
    "urls"
   ]
  },
  {
   "cell_type": "code",
   "execution_count": 95,
   "id": "16cc8ea2-9307-447d-9f0d-b90a48b25eaa",
   "metadata": {},
   "outputs": [
    {
     "name": "stdout",
     "output_type": "stream",
     "text": [
      "Successfully downloaded and unzipped 2017\n",
      "Successfully downloaded and unzipped 2018\n",
      "Successfully downloaded and unzipped 2019\n",
      "Successfully downloaded and unzipped 2020\n",
      "Successfully downloaded and unzipped 2021\n",
      "Successfully downloaded and unzipped 2022\n",
      "Successfully downloaded and unzipped 2023\n",
      "Successfully downloaded and unzipped 2024\n"
     ]
    }
   ],
   "source": [
    "for y, url in urls:\n",
    "    try:\n",
    "        import requests, zipfile, io\n",
    "        r = requests.get(url)\n",
    "        z = zipfile.ZipFile(io.BytesIO(r.content))\n",
    "        z.extractall(\"./data\")\n",
    "        print(f\"Successfully downloaded and unzipped {y}\")\n",
    "    except:\n",
    "        print(f\"Problem downloaded and unzipped {y}\")"
   ]
  },
  {
   "cell_type": "markdown",
   "id": "6b927122-6249-48db-a782-dee19a41b78e",
   "metadata": {},
   "source": [
    "## Unzip Monthly Files"
   ]
  },
  {
   "cell_type": "code",
   "execution_count": 96,
   "id": "087b9286-1bbb-4a37-a962-7d1e39d06d46",
   "metadata": {},
   "outputs": [
    {
     "data": {
      "text/plain": [
       "['./data\\\\hospitals_01_2021.zip',\n",
       " './data\\\\hospitals_01_2022.zip',\n",
       " './data\\\\hospitals_01_2023.zip',\n",
       " './data\\\\hospitals_01_2024.zip',\n",
       " './data\\\\hospitals_03_2021.zip',\n",
       " './data\\\\hospitals_04_2021.zip',\n",
       " './data\\\\hospitals_04_2022.zip',\n",
       " './data\\\\hospitals_04_2023.zip',\n",
       " './data\\\\hospitals_04_2024.zip',\n",
       " './data\\\\hospitals_07_2021.zip',\n",
       " './data\\\\hospitals_07_2022.zip',\n",
       " './data\\\\hospitals_07_2023.zip',\n",
       " './data\\\\hospitals_07_2024.zip',\n",
       " './data\\\\hospitals_10_2021.zip',\n",
       " './data\\\\hospitals_10_2022.zip',\n",
       " './data\\\\hospitals_10_2023.zip',\n",
       " './data\\\\hospitals_11_2023.zip',\n",
       " './data\\\\hospitals_archive_07_2020.zip',\n",
       " './data\\\\hospitals_archive_10_2020.zip',\n",
       " './data\\\\hos_archive_04_2017.zip',\n",
       " './data\\\\hos_revised_flatfiles_archive_01_2018.zip',\n",
       " './data\\\\hos_revised_flatfiles_archive_01_2020.zip',\n",
       " './data\\\\hos_revised_flatfiles_archive_03_2019.zip',\n",
       " './data\\\\hos_revised_flatfiles_archive_04_2017.zip',\n",
       " './data\\\\hos_revised_flatfiles_archive_04_2019.zip',\n",
       " './data\\\\hos_revised_flatfiles_archive_04_2020.zip',\n",
       " './data\\\\hos_revised_flatfiles_archive_05_2018.zip',\n",
       " './data\\\\hos_revised_flatfiles_archive_07_2017.zip',\n",
       " './data\\\\hos_revised_flatfiles_archive_07_2018.zip',\n",
       " './data\\\\hos_revised_flatfiles_archive_07_2019.zip',\n",
       " './data\\\\hos_revised_flatfiles_archive_10_2017.zip',\n",
       " './data\\\\hos_revised_flatfiles_archive_10_2018.zip',\n",
       " './data\\\\hos_revised_flatfiles_archive_10_2019.zip']"
      ]
     },
     "execution_count": 96,
     "metadata": {},
     "output_type": "execute_result"
    }
   ],
   "source": [
    "(all_monthly_zip := \n",
    " glob('./data/*.zip')\n",
    ")"
   ]
  },
  {
   "cell_type": "code",
   "execution_count": 104,
   "id": "9af1a16c-aee8-4783-b88c-b6560105ac22",
   "metadata": {},
   "outputs": [
    {
     "data": {
      "text/plain": [
       "[('./data/hospitals_01_2021', './data\\\\hospitals_01_2021.zip'),\n",
       " ('./data', './data\\\\hospitals_01_2022.zip'),\n",
       " ('./data', './data\\\\hospitals_01_2023.zip'),\n",
       " ('./data/hospitals_01_2024', './data\\\\hospitals_01_2024.zip'),\n",
       " ('./data/hospitals_03_2021', './data\\\\hospitals_03_2021.zip'),\n",
       " ('./data/hospitals_04_2021', './data\\\\hospitals_04_2021.zip'),\n",
       " ('./data', './data\\\\hospitals_04_2022.zip'),\n",
       " ('./data', './data\\\\hospitals_04_2023.zip'),\n",
       " ('./data/hospitals_04_2024', './data\\\\hospitals_04_2024.zip'),\n",
       " ('./data/hospitals_07_2021', './data\\\\hospitals_07_2021.zip'),\n",
       " ('./data', './data\\\\hospitals_07_2022.zip'),\n",
       " ('./data', './data\\\\hospitals_07_2023.zip'),\n",
       " ('./data/hospitals_07_2024', './data\\\\hospitals_07_2024.zip'),\n",
       " ('./data/hospitals_10_2021', './data\\\\hospitals_10_2021.zip'),\n",
       " ('./data', './data\\\\hospitals_10_2022.zip'),\n",
       " ('./data', './data\\\\hospitals_10_2023.zip'),\n",
       " ('./data', './data\\\\hospitals_11_2023.zip'),\n",
       " ('./data/hospitals_07_2020', './data\\\\hospitals_archive_07_2020.zip'),\n",
       " ('./data/hospitals_10_2020', './data\\\\hospitals_archive_10_2020.zip'),\n",
       " ('./data/hospitals_04_2017', './data\\\\hos_archive_04_2017.zip'),\n",
       " ('./data/hospitals_01_2018',\n",
       "  './data\\\\hos_revised_flatfiles_archive_01_2018.zip'),\n",
       " ('./data/hospitals_01_2020',\n",
       "  './data\\\\hos_revised_flatfiles_archive_01_2020.zip'),\n",
       " ('./data/hospitals_03_2019',\n",
       "  './data\\\\hos_revised_flatfiles_archive_03_2019.zip'),\n",
       " ('./data/hospitals_04_2017',\n",
       "  './data\\\\hos_revised_flatfiles_archive_04_2017.zip'),\n",
       " ('./data/hospitals_04_2019',\n",
       "  './data\\\\hos_revised_flatfiles_archive_04_2019.zip'),\n",
       " ('./data/hospitals_04_2020',\n",
       "  './data\\\\hos_revised_flatfiles_archive_04_2020.zip'),\n",
       " ('./data/hospitals_05_2018',\n",
       "  './data\\\\hos_revised_flatfiles_archive_05_2018.zip'),\n",
       " ('./data/hospitals_07_2017',\n",
       "  './data\\\\hos_revised_flatfiles_archive_07_2017.zip'),\n",
       " ('./data/hospitals_07_2018',\n",
       "  './data\\\\hos_revised_flatfiles_archive_07_2018.zip'),\n",
       " ('./data/hospitals_07_2019',\n",
       "  './data\\\\hos_revised_flatfiles_archive_07_2019.zip'),\n",
       " ('./data/hospitals_10_2017',\n",
       "  './data\\\\hos_revised_flatfiles_archive_10_2017.zip'),\n",
       " ('./data/hospitals_10_2018',\n",
       "  './data\\\\hos_revised_flatfiles_archive_10_2018.zip'),\n",
       " ('./data/hospitals_10_2019',\n",
       "  './data\\\\hos_revised_flatfiles_archive_10_2019.zip')]"
      ]
     },
     "execution_count": 104,
     "metadata": {},
     "output_type": "execute_result"
    }
   ],
   "source": [
    "m_and_y = re.compile(r'^\\./data\\\\hos[a-z_]*(\\d{2})_(\\d{4})\\.zip$')\n",
    "\n",
    "month = lambda p: (match := m_and_y.search(p)) and match.group(1)\n",
    "year = lambda p: (match := m_and_y.search(p)) and match.group(2)\n",
    "is_22_23 = lambda p: year(p) in ['2022', '2023']\n",
    "\n",
    "folder = lambda p: './data' if is_22_23(p) else f'./data/hospitals_{month(p)}_{year(p)}'\n",
    "(folder_and_path :=\n",
    " [(folder(p),\n",
    "   p,)\n",
    "  for p in all_monthly_zip])"
   ]
  },
  {
   "cell_type": "code",
   "execution_count": 105,
   "id": "e47c41cb-679e-4247-b7ee-f13d79e1489f",
   "metadata": {
    "scrolled": true
   },
   "outputs": [
    {
     "name": "stdout",
     "output_type": "stream",
     "text": [
      "Successfully unzipped file=./data\\hospitals_01_2021.zip\n",
      "Successfully unzipped file=./data\\hospitals_01_2022.zip\n",
      "Successfully unzipped file=./data\\hospitals_01_2023.zip\n",
      "Successfully unzipped file=./data\\hospitals_01_2024.zip\n",
      "Successfully unzipped file=./data\\hospitals_03_2021.zip\n",
      "Successfully unzipped file=./data\\hospitals_04_2021.zip\n",
      "Successfully unzipped file=./data\\hospitals_04_2022.zip\n",
      "Successfully unzipped file=./data\\hospitals_04_2023.zip\n",
      "Successfully unzipped file=./data\\hospitals_04_2024.zip\n",
      "Successfully unzipped file=./data\\hospitals_07_2021.zip\n",
      "Successfully unzipped file=./data\\hospitals_07_2022.zip\n",
      "Successfully unzipped file=./data\\hospitals_07_2023.zip\n",
      "Successfully unzipped file=./data\\hospitals_07_2024.zip\n",
      "Successfully unzipped file=./data\\hospitals_10_2021.zip\n",
      "Successfully unzipped file=./data\\hospitals_10_2022.zip\n",
      "Successfully unzipped file=./data\\hospitals_10_2023.zip\n",
      "Successfully unzipped file=./data\\hospitals_11_2023.zip\n",
      "Successfully unzipped file=./data\\hospitals_archive_07_2020.zip\n",
      "Successfully unzipped file=./data\\hospitals_archive_10_2020.zip\n",
      "Successfully unzipped file=./data\\hos_archive_04_2017.zip\n",
      "Successfully unzipped file=./data\\hos_revised_flatfiles_archive_01_2018.zip\n",
      "Successfully unzipped file=./data\\hos_revised_flatfiles_archive_01_2020.zip\n",
      "Successfully unzipped file=./data\\hos_revised_flatfiles_archive_03_2019.zip\n",
      "Successfully unzipped file=./data\\hos_revised_flatfiles_archive_04_2017.zip\n",
      "Successfully unzipped file=./data\\hos_revised_flatfiles_archive_04_2019.zip\n",
      "Successfully unzipped file=./data\\hos_revised_flatfiles_archive_04_2020.zip\n",
      "Successfully unzipped file=./data\\hos_revised_flatfiles_archive_05_2018.zip\n",
      "Successfully unzipped file=./data\\hos_revised_flatfiles_archive_07_2017.zip\n",
      "Successfully unzipped file=./data\\hos_revised_flatfiles_archive_07_2018.zip\n",
      "Successfully unzipped file=./data\\hos_revised_flatfiles_archive_07_2019.zip\n",
      "Successfully unzipped file=./data\\hos_revised_flatfiles_archive_10_2017.zip\n",
      "Successfully unzipped file=./data\\hos_revised_flatfiles_archive_10_2018.zip\n",
      "Successfully unzipped file=./data\\hos_revised_flatfiles_archive_10_2019.zip\n"
     ]
    }
   ],
   "source": [
    "for folder, path in folder_and_path:\n",
    "    with zipfile.ZipFile(path, 'r') as zip_obj:\n",
    "        zip_obj.extractall(folder)\n",
    "        print(f'Successfully unzipped file={path}')"
   ]
  },
  {
   "cell_type": "code",
   "execution_count": null,
   "id": "f34dddaa-0a9a-4aa8-9f43-497865108f04",
   "metadata": {},
   "outputs": [],
   "source": []
  }
 ],
 "metadata": {
  "kernelspec": {
   "display_name": "Python 3 (ipykernel)",
   "language": "python",
   "name": "python3"
  },
  "language_info": {
   "codemirror_mode": {
    "name": "ipython",
    "version": 3
   },
   "file_extension": ".py",
   "mimetype": "text/x-python",
   "name": "python",
   "nbconvert_exporter": "python",
   "pygments_lexer": "ipython3",
   "version": "3.12.5"
  }
 },
 "nbformat": 4,
 "nbformat_minor": 5
}
